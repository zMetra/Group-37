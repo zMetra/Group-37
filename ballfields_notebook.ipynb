{
 "cells": [
  {
   "cell_type": "code",
   "execution_count": 10,
   "metadata": {},
   "outputs": [],
   "source": [
    "import pandas as pd\n",
    "import matplotlib.pyplot as plt\n",
    "import geopandas as gpd\n",
    "import numpy as np"
   ]
  },
  {
   "cell_type": "code",
   "execution_count": 11,
   "metadata": {},
   "outputs": [
    {
     "name": "stdout",
     "output_type": "stream",
     "text": [
      "                 name\n",
      "0  Marshall-Shadeland\n",
      "1    South Side Flats\n",
      "2   South Side Slopes\n",
      "3           Arlington\n",
      "4       Lincoln Place\n"
     ]
    }
   ],
   "source": [
    "nb = pd.read_csv('Neighborhoods_Files/pgh_neighborhoods.csv')\n",
    "nb = nb[['name']]\n",
    "print(nb.head())"
   ]
  },
  {
   "cell_type": "code",
   "execution_count": 13,
   "metadata": {},
   "outputs": [
    {
     "name": "stdout",
     "output_type": "stream",
     "text": [
      "0      Bedford Dwellings\n",
      "1      Bedford Dwellings\n",
      "2       Southside Slopes\n",
      "3       Southside Flates\n",
      "4    Lower Lawrenceville\n",
      "Name: Neighborhood, dtype: object\n",
      "                   name  fields\n",
      "86  Squirrel Hill South       7\n",
      "54     Brighton Heights       7\n",
      "28          Morningside       6\n",
      "62            Brookline       6\n",
      "85            Hazelwood       4\n",
      "..                  ...     ...\n",
      "59       Chartiers City       0\n",
      "30          South Shore       0\n",
      "61    Arlington Heights       0\n",
      "10           Friendship       0\n",
      "23   Point Breeze North       0\n",
      "\n",
      "[91 rows x 2 columns]\n"
     ]
    }
   ],
   "source": [
    "fields = pd.read_csv('baseball_fields_2015.csv')\n",
    "fields = fields['Neighborhood'] # select only the neighborhood column\n",
    "print(fields.head())\n",
    "# we want to count how many instances of each neighborhood are in features. \n",
    "# This will be essentially be a 'leaderboard' of water features\n",
    "nb['fields'] = pd.Series(0, index=np.arange(len(nb))) # we initialize the leaderboard to all 0's\n",
    "for row in fields:\n",
    "    # get neighborhood index \n",
    "    \n",
    "    inds = nb[nb.name == row]\n",
    "    if len(inds):\n",
    "        ind = nb[nb.name == row].index[0] # which neighborhood does this feature belong to?\n",
    "        nb.loc[ind,'fields'] += 1 # update accordingly\"\"\"\n",
    "    \n",
    "nb = nb.sort_values('fields', ascending=False) # we sort by highest first\n",
    "print(nb)"
   ]
  },
  {
   "cell_type": "code",
   "execution_count": 14,
   "metadata": {},
   "outputs": [
    {
     "data": {
      "text/plain": [
       "<matplotlib.axes._subplots.AxesSubplot at 0x7f2c51ca6520>"
      ]
     },
     "execution_count": 14,
     "metadata": {},
     "output_type": "execute_result"
    },
    {
     "data": {
      "image/png": "[encoded data removed]",
      "text/plain": [
       "<Figure size 432x288 with 1 Axes>"
      ]
     },
     "metadata": {
      "needs_background": "light"
     },
     "output_type": "display_data"
    }
   ],
   "source": [
    "nb = nb[:8]\n",
    "nb.plot.bar(x='name')"
   ]
  },
  {
   "cell_type": "code",
   "execution_count": null,
   "metadata": {},
   "outputs": [],
   "source": []
  },
  {
   "cell_type": "code",
   "execution_count": null,
   "metadata": {},
   "outputs": [],
   "source": []
  },
  {
   "cell_type": "code",
   "execution_count": null,
   "metadata": {},
   "outputs": [],
   "source": []
  }
 ],
 "metadata": {
  "kernelspec": {
   "display_name": "Python 3",
   "language": "python",
   "name": "python3"
  },
  "language_info": {
   "codemirror_mode": {
    "name": "ipython",
    "version": 3
   },
   "file_extension": ".py",
   "mimetype": "text/x-python",
   "name": "python",
   "nbconvert_exporter": "python",
   "pygments_lexer": "ipython3",
   "version": "3.8.3"
  }
 },
 "nbformat": 4,
 "nbformat_minor": 4
}
