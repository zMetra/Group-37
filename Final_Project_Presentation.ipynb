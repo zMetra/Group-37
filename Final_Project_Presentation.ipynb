{
 "cells": [
  {
   "cell_type": "markdown",
   "metadata": {},
   "source": [
    "# Best Neighborhood in Pittsburgh for Nature\n",
    "In this notebook we will evalute every neighborhood in Pittsburgh using information about the number of baseball fields, water features, greenways, and pools. After collecting this data for every neighborhood we will apply a consistent metric to obtain the BEST neighborhood in Pittsburgh.\n",
    "\n",
    "\n",
    "<img src=\"https://www.cnu.org/sites/default/files/styles/public_square_feature_image/public/Greenway-tioga-fl-arendt1.jpg?itok=MqE-Pg7V\"  width=\"600\" height=\"300\">"
   ]
  },
  {
   "cell_type": "markdown",
   "metadata": {},
   "source": [
    "# Dependencies\n",
    "\n",
    "We use pandas (of course), matplotlib for plotting, geopandas for our geographical data and shapefiles, and numpy for certain quantitative processing."
   ]
  },
  {
   "cell_type": "markdown",
   "metadata": {},
   "source": [
    "import pandas as pd\n",
    "import matplotlib.pyplot as plt\n",
    "import geopandas as gpd\n",
    "import numpy as np"
   ]
  },
  {
   "cell_type": "markdown",
   "metadata": {},
   "source": [
    "To begin with we need to obtain all the neighborhoods."
   ]
  },
  {
   "cell_type": "code",
   "execution_count": 16,
   "metadata": {},
   "outputs": [
    {
     "name": "stdout",
     "output_type": "stream",
     "text": [
      "                 name\n",
      "0  Marshall-Shadeland\n",
      "1    South Side Flats\n",
      "2   South Side Slopes\n",
      "3           Arlington\n",
      "4       Lincoln Place\n"
     ]
    }
   ],
   "source": [
    "nb = pd.read_csv('Neighborhoods_Files/pgh_neighborhoods.csv')\n",
    "nb = nb[['name']]\n",
    "print(nb.head())"
   ]
  },
  {
   "cell_type": "code",
   "execution_count": 13,
   "metadata": {},
   "outputs": [
    {
     "name": "stdout",
     "output_type": "stream",
     "text": [
      "0    Bedford Dwellings\n",
      "1           Banksville\n",
      "2            Beechview\n",
      "3           Bloomfield\n",
      "4            Hazelwood\n",
      "Name: neighborhood, dtype: object\n"
     ]
    }
   ],
   "source": [
    "pools = pd.read_csv('citypools.csv') # load our datasets \n",
    "greenways = pd.read_csv('greenways.csv')\n",
    "features = pd.read_csv('waterfeatures.csv')\n",
    "fields = pd.read_csv('baseball_fields_2015.csv')\n",
    "\n",
    "pools = pools['neighborhood'] # select only the neighborhood column for all\n",
    "greenways = greenways['nhood'] \n",
    "features = features['neighborhood']\n",
    "fields = fields['Neighborhood'] \n",
    "\n",
    "print(features.head())\n"
   ]
  },
  {
   "cell_type": "code",
   "execution_count": 14,
   "metadata": {},
   "outputs": [
    {
     "name": "stdout",
     "output_type": "stream",
     "text": [
      "                         name  pools  greenways\n",
      "71              Highland Park      2          0\n",
      "1            South Side Flats      2          0\n",
      "89                  Troy Hill      1          0\n",
      "32                  Shadyside      1          0\n",
      "2           South Side Slopes      1          0\n",
      "..                        ...    ...        ...\n",
      "75  Central Business District      0          0\n",
      "0          Marshall-Shadeland      0          0\n",
      "52             East Allegheny      0          0\n",
      "58                  Allentown      0          0\n",
      "45      Spring Hill-City View      0          0\n",
      "\n",
      "[91 rows x 3 columns]\n"
     ]
    },
    {
     "data": {
      "text/plain": [
       "<matplotlib.axes._subplots.AxesSubplot at 0x7f024c4825e0>"
      ]
     },
     "execution_count": 14,
     "metadata": {},
     "output_type": "execute_result"
    },
    {
     "data": {
      "image/png": "[encoded data removed]",
      "text/plain": [
       "<Figure size 432x288 with 1 Axes>"
      ]
     },
     "metadata": {
      "needs_background": "light"
     },
     "output_type": "display_data"
    }
   ],
   "source": [
    "# we want to count how many instances of each neighborhood are in the pool database. \n",
    "# This will be essentially be a 'leaderboard' of pools\n",
    "nb['pools'] = pd.Series(0, index=np.arange(len(nb))) # we initialize the leaderboard to all 0's\n",
    "for row in pools:\n",
    "    inds = nb[nb.name == row]  # get neighborhood index \n",
    "    if len(inds):\n",
    "        ind = nb[nb.name == row].index[0] # which neighborhood does this pool belong to?\n",
    "        nb.loc[ind,'pools'] += 1 # update accordingly\n",
    "    \n",
    "nb = nb.sort_values('pools', ascending=False) # we sort by highest first\n",
    "print(nb)\n",
    "nb[:6].plot.bar(x='name')"
   ]
  },
  {
   "cell_type": "code",
   "execution_count": 12,
   "metadata": {},
   "outputs": [
    {
     "name": "stdout",
     "output_type": "stream",
     "text": [
      "                     name  pools  greenways\n",
      "86    Squirrel Hill South      1          1\n",
      "46            Perry South      0          1\n",
      "85              Hazelwood      1          1\n",
      "48            Perry North      1          1\n",
      "62              Brookline      1          1\n",
      "..                    ...    ...        ...\n",
      "10             Friendship      0          0\n",
      "12       Crawford-Roberts      0          0\n",
      "16  Central Lawrenceville      0          0\n",
      "22                Windgap      0          0\n",
      "45  Spring Hill-City View      0          0\n",
      "\n",
      "[91 rows x 3 columns]\n"
     ]
    },
    {
     "data": {
      "text/plain": [
       "<matplotlib.axes._subplots.AxesSubplot at 0x7f024b4be1f0>"
      ]
     },
     "execution_count": 12,
     "metadata": {},
     "output_type": "execute_result"
    },
    {
     "data": {
      "image/png": "[encoded data removed]",
      "text/plain": [
       "<Figure size 432x288 with 1 Axes>"
      ]
     },
     "metadata": {
      "needs_background": "light"
     },
     "output_type": "display_data"
    }
   ],
   "source": [
    "\n",
    "nb['greenways'] = pd.Series(0, index=np.arange(len(nb))) # we initialize the leaderboard to all 0's\n",
    "for row in greenways:\n",
    "    # get neighborhood index \n",
    "\n",
    "    #print(row)\n",
    "    inds = nb[nb.name == row]\n",
    "    if len(inds):\n",
    "        ind = nb[nb.name == row].index[0] # which neighborhood does this feature belong to?\n",
    "        nb.loc[ind,'greenways'] += 1 # update accordingly\n",
    "    \n",
    "nb = nb.sort_values('greenways', ascending=False) # we sort by highest first\n",
    "print(nb)\n",
    "nb[:8].plot.bar(x='name')\n"
   ]
  },
  {
   "cell_type": "code",
   "execution_count": 23,
   "metadata": {},
   "outputs": [
    {
     "name": "stdout",
     "output_type": "stream",
     "text": [
      "                    name  pools  greenways  features\n",
      "86   Squirrel Hill South      1          1        14\n",
      "71         Highland Park      2          0        12\n",
      "35       Terrace Village      0          0         8\n",
      "62             Brookline      1          1         8\n",
      "17      Allegheny Center      1          0         8\n",
      "..                   ...    ...        ...       ...\n",
      "65             St. Clair      0          0         0\n",
      "59        Chartiers City      0          0         0\n",
      "55  California-Kirkbride      0          0         0\n",
      "40     Northview Heights      0          0         0\n",
      "34               Chateau      0          0         0\n",
      "\n",
      "[91 rows x 4 columns]\n"
     ]
    },
    {
     "data": {
      "text/plain": [
       "<matplotlib.axes._subplots.AxesSubplot at 0x7ffb751f0af0>"
      ]
     },
     "execution_count": 23,
     "metadata": {},
     "output_type": "execute_result"
    },
    {
     "data": {
      "image/png": "[encoded data removed]",
      "text/plain": [
       "<Figure size 432x288 with 1 Axes>"
      ]
     },
     "metadata": {
      "needs_background": "light"
     },
     "output_type": "display_data"
    }
   ],
   "source": [
    "\n",
    "nb['features'] = pd.Series(0, index=np.arange(len(nb))) # we initialize the leaderboard to all 0's\n",
    "for row in features:\n",
    "    # get neighborhood index \n",
    "    inds = nb[nb.name == row]\n",
    "    if(len(inds)):\n",
    "        ind = nb[nb.name == row].index[0] # which neighborhood does this feature belong to?\n",
    "        #print(len(inds), ind) \n",
    "        nb.loc[ind,'features'] += 1 # update accordingly\n",
    "    \n",
    "nb = nb.sort_values('features', ascending=False) # we sort by highest first\n",
    "print(nb)\n",
    "nb[:6].plot.bar(x='name')\n"
   ]
  },
  {
   "cell_type": "code",
   "execution_count": 25,
   "metadata": {},
   "outputs": [
    {
     "name": "stdout",
     "output_type": "stream",
     "text": [
      "                   name  pools  greenways  features  fields\n",
      "86  Squirrel Hill South      1          1        14       7\n",
      "54     Brighton Heights      1          0         6       7\n",
      "62            Brookline      1          1         8       6\n",
      "28          Morningside      0          0         5       6\n",
      "85            Hazelwood      1          1         3       4\n",
      "90     Mount Washington      1          0         6       4\n",
      "7              Sheraden      1          0         3       3\n",
      "89            Troy Hill      1          0         6       3\n"
     ]
    },
    {
     "data": {
      "image/png": "[encoded data removed]",
      "text/plain": [
       "<Figure size 432x288 with 1 Axes>"
      ]
     },
     "metadata": {
      "needs_background": "light"
     },
     "output_type": "display_data"
    }
   ],
   "source": [
    "nb['fields'] = pd.Series(0, index=np.arange(len(nb))) # we initialize the leaderboard to all 0's\n",
    "for row in fields:\n",
    "    # get neighborhood index \n",
    "    \n",
    "    inds = nb[nb.name == row]\n",
    "    if len(inds):\n",
    "        ind = nb[nb.name == row].index[0] # which neighborhood does this feature belong to?\n",
    "        nb.loc[ind,'fields'] += 1 # update accordingly\"\"\"\n",
    "    \n",
    "nb = nb.sort_values('fields', ascending=False) # we sort by highest first\n",
    "\n",
    "nb = nb[:8]\n",
    "nb.plot.bar(x='name')\n",
    "print(nb)"
   ]
  },
  {
   "cell_type": "code",
   "execution_count": 26,
   "metadata": {},
   "outputs": [
    {
     "name": "stdout",
     "output_type": "stream",
     "text": [
      "                   name  pools  greenways  features  fields\n",
      "86  Squirrel Hill South      1          1        14       7\n",
      "54     Brighton Heights      1          0         6       7\n",
      "62            Brookline      1          1         8       6\n",
      "28          Morningside      0          0         5       6\n",
      "85            Hazelwood      1          1         3       4\n"
     ]
    }
   ],
   "source": [
    "print(nb.head())"
   ]
  },
  {
   "cell_type": "code",
   "execution_count": 56,
   "metadata": {},
   "outputs": [
    {
     "name": "stdout",
     "output_type": "stream",
     "text": [
      "                   name  pools  greenways  features  fields     score\n",
      "86  Squirrel Hill South      1          1        14       7  5.750000\n",
      "62            Brookline      1          1         8       6  4.642857\n",
      "54     Brighton Heights      1          0         6       7  3.607143\n",
      "85            Hazelwood      1          1         3       4  3.428571\n",
      "90     Mount Washington      1          0         6       4  2.857143\n",
      "89            Troy Hill      1          0         6       3  2.607143\n",
      "28          Morningside      0          0         5       6  2.214286\n",
      "7              Sheraden      1          0         3       3  2.178571\n",
      "THE HIGHEST SCORING NEIGHBORHOOD IS: Squirrel Hill South\n"
     ]
    }
   ],
   "source": [
    "nb['score'] = pd.Series(0, index=np.arange(len(nb))) # we initialize all the scores to 0\n",
    "for i, row in nb.iterrows():\n",
    "    #print(row)\n",
    "    nb.loc[i,\"score\"] = row.pools + row.greenways + row.features/7 + row.fields/4\n",
    "\n",
    "nb = nb.sort_values(\"score\", ascending=False) # we sort by highest first\n",
    "print(nb)\n",
    "print(\"THE HIGHEST SCORING NEIGHBORHOOD IS:\", nb['name'].iloc[0])"
   ]
  },
  {
   "cell_type": "code",
   "execution_count": null,
   "metadata": {},
   "outputs": [],
   "source": []
  }
 ],
 "metadata": {
  "kernelspec": {
   "display_name": "Python 3",
   "language": "python",
   "name": "python3"
  },
  "language_info": {
   "codemirror_mode": {
    "name": "ipython",
    "version": 3
   },
   "file_extension": ".py",
   "mimetype": "text/x-python",
   "name": "python",
   "nbconvert_exporter": "python",
   "pygments_lexer": "ipython3",
   "version": "3.8.3"
  }
 },
 "nbformat": 4,
 "nbformat_minor": 4
}
