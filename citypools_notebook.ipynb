{
 "cells": [
  {
   "cell_type": "code",
   "execution_count": 5,
   "metadata": {},
   "outputs": [],
   "source": [
    "import pandas as pd\n",
    "import matplotlib.pyplot as plt\n",
    "import geopandas as gpd\n",
    "import numpy as np"
   ]
  },
  {
   "cell_type": "code",
   "execution_count": 6,
   "metadata": {},
   "outputs": [
    {
     "name": "stdout",
     "output_type": "stream",
     "text": [
      "                 name\n",
      "0  Marshall-Shadeland\n",
      "1    South Side Flats\n",
      "2   South Side Slopes\n",
      "3           Arlington\n",
      "4       Lincoln Place\n"
     ]
    }
   ],
   "source": [
    "nb = pd.read_csv('Neighborhoods_Files/pgh_neighborhoods.csv')\n",
    "nb = nb[['name']]\n",
    "print(nb.head())"
   ]
  },
  {
   "cell_type": "code",
   "execution_count": 7,
   "metadata": {},
   "outputs": [
    {
     "name": "stdout",
     "output_type": "stream",
     "text": [
      "0    Bedford Dwellings\n",
      "1           Banksville\n",
      "2            Beechview\n",
      "3           Bloomfield\n",
      "4            Hazelwood\n",
      "Name: neighborhood, dtype: object\n",
      "                     name  pools\n",
      "1        South Side Flats      2\n",
      "71          Highland Park      2\n",
      "90       Mount Washington      1\n",
      "14            Beltzhoover      1\n",
      "48            Perry North      1\n",
      "..                    ...    ...\n",
      "36                   Hays      0\n",
      "35        Terrace Village      0\n",
      "34                Chateau      0\n",
      "33        Crafton Heights      0\n",
      "45  Spring Hill-City View      0\n",
      "\n",
      "[91 rows x 2 columns]\n"
     ]
    }
   ],
   "source": [
    "pools = pd.read_csv('citypools.csv')\n",
    "pools = pools['neighborhood'] # select only the neighborhood column\n",
    "print(pools.head())\n",
    "# we want to count how many instances of each neighborhood are in features. \n",
    "# This will be essentially be a 'leaderboard' of water features\n",
    "nb['pools'] = pd.Series(0, index=np.arange(len(nb))) # we initialize the leaderboard to all 0's\n",
    "for row in pools:\n",
    "    # get neighborhood index \n",
    "    \n",
    "    inds = nb[nb.name == row]\n",
    "    if len(inds):\n",
    "        ind = nb[nb.name == row].index[0] # which neighborhood does this feature belong to?\n",
    "        nb.loc[ind,'pools'] += 1 # update accordingly\"\"\"\n",
    "    \n",
    "nb = nb.sort_values('pools', ascending=False) # we sort by highest first\n",
    "print(nb)"
   ]
  },
  {
   "cell_type": "code",
   "execution_count": 8,
   "metadata": {},
   "outputs": [
    {
     "data": {
      "text/plain": [
       "<matplotlib.axes._subplots.AxesSubplot at 0x7ffb76117280>"
      ]
     },
     "execution_count": 8,
     "metadata": {},
     "output_type": "execute_result"
    },
    {
     "data": {
      "image/png": "[encoded data removed]",
      "text/plain": [
       "<Figure size 432x288 with 1 Axes>"
      ]
     },
     "metadata": {
      "needs_background": "light"
     },
     "output_type": "display_data"
    }
   ],
   "source": [
    "nb = nb[:8]\n",
    "nb.plot.bar(x='name')"
   ]
  },
  {
   "cell_type": "code",
   "execution_count": null,
   "metadata": {},
   "outputs": [],
   "source": []
  },
  {
   "cell_type": "code",
   "execution_count": null,
   "metadata": {},
   "outputs": [],
   "source": []
  },
  {
   "cell_type": "code",
   "execution_count": null,
   "metadata": {},
   "outputs": [],
   "source": []
  }
 ],
 "metadata": {
  "kernelspec": {
   "display_name": "Python 3",
   "language": "python",
   "name": "python3"
  },
  "language_info": {
   "codemirror_mode": {
    "name": "ipython",
    "version": 3
   },
   "file_extension": ".py",
   "mimetype": "text/x-python",
   "name": "python",
   "nbconvert_exporter": "python",
   "pygments_lexer": "ipython3",
   "version": "3.8.3"
  }
 },
 "nbformat": 4,
 "nbformat_minor": 4
}
