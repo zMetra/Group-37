{
 "cells": [
  {
   "cell_type": "code",
   "execution_count": 39,
   "metadata": {},
   "outputs": [],
   "source": [
    "import pandas as pd\n",
    "import matplotlib.pyplot as plt\n",
    "import geopandas as gpd\n",
    "import numpy as np"
   ]
  },
  {
   "cell_type": "code",
   "execution_count": 31,
   "metadata": {},
   "outputs": [
    {
     "name": "stdout",
     "output_type": "stream",
     "text": [
      "                 name\n",
      "0  Marshall-Shadeland\n",
      "1    South Side Flats\n",
      "2   South Side Slopes\n",
      "3           Arlington\n",
      "4       Lincoln Place\n"
     ]
    }
   ],
   "source": [
    "neighbors = gpd.read_file('Neighborhoods_Files/Neighborhoods_.shp') # neighborhood shapes\n",
    "trails = gpd.read_file('Trails/Parks_PARKS_OWNER_Trails.shp') # trails shapes\n",
    "fields = gpd.read_file('Ballfields/Ballfields_PGH.shp') #baseball fields shapes\n",
    "parks = gpd.read_file('Parks/PGHWebParks.shp')\n",
    "emergency = gpd.read_file('Emergency Services/EmergencyServices.shp')\n",
    "greenways = gpd.read_file('Greenways/Greenways.shp')\n",
    "\n",
    "landslide = gpd.read_file('Landslide/Landslide_Prone.shp')\n",
    "fire = gpd.read_file('Fire/pghdb_sde_Fire_Zones.shp')\n",
    "flooding = gpd.read_file('Flooding/2014_FEMA_Flood_Zones.shp')\n",
    "bridges = gpd.read_file('Bridges/PGHBridges.shp')\n",
    "slope = gpd.read_file('Slope/Slope.shp')\n",
    "\n",
    "nb = pd.read_csv('Neighborhoods_Files/pgh_neighborhoods.csv')\n",
    "nb = nb[['name']]\n",
    "print(nb.head())\n"
   ]
  },
  {
   "cell_type": "code",
   "execution_count": 56,
   "metadata": {},
   "outputs": [
    {
     "name": "stdout",
     "output_type": "stream",
     "text": [
      "                   name  features\n",
      "86  Squirrel Hill South        14\n",
      "71        Highland Park        12\n",
      "17     Allegheny Center         8\n",
      "83           Bloomfield         8\n",
      "62            Brookline         8\n"
     ]
    },
    {
     "data": {
      "text/plain": [
       "<matplotlib.axes._subplots.AxesSubplot at 0x7f514ce38700>"
      ]
     },
     "execution_count": 56,
     "metadata": {},
     "output_type": "execute_result"
    },
    {
     "data": {
      "image/png": "[encoded data removed]",
      "text/plain": [
       "<Figure size 432x288 with 1 Axes>"
      ]
     },
     "metadata": {
      "needs_background": "light"
     },
     "output_type": "display_data"
    }
   ],
   "source": [
    "features = pd.read_csv('waterfeatures.csv')\n",
    "features = features['neighborhood'] # select only the neighborhood column\n",
    "# we want to count how many instances of each neighborhood are in features. \n",
    "# This will be essentially be a 'leaderboard' of water features\n",
    "nb['features'] = pd.Series(0, index=np.arange(len(nb))) # we initialize the leaderboard to all 0's\n",
    "for row in features:\n",
    "    # get neighborhood index \n",
    "    ind = nb[nb.name == row].index[0] # which neighborhood does this feature belong to?\n",
    "    #print(len(inds), ind) \n",
    "    nb.loc[ind,'features'] += 1 # update accordingly\n",
    "    \n",
    "nb = nb.sort_values('features', ascending=False) # we sort by highest first\n",
    "\n",
    "print(nb.head())\n",
    "\n",
    "nb.plot.bar()"
   ]
  },
  {
   "cell_type": "code",
   "execution_count": null,
   "metadata": {},
   "outputs": [],
   "source": []
  }
 ],
 "metadata": {
  "kernelspec": {
   "display_name": "Python 3",
   "language": "python",
   "name": "python3"
  },
  "language_info": {
   "codemirror_mode": {
    "name": "ipython",
    "version": 3
   },
   "file_extension": ".py",
   "mimetype": "text/x-python",
   "name": "python",
   "nbconvert_exporter": "python",
   "pygments_lexer": "ipython3",
   "version": "3.8.3"
  }
 },
 "nbformat": 4,
 "nbformat_minor": 4
}
